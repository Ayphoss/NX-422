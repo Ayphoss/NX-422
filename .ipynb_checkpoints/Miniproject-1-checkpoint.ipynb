{
 "cells": [
  {
   "cell_type": "code",
   "execution_count": 1,
   "id": "544cd957-6955-42c8-8608-daa960803f5c",
   "metadata": {},
   "outputs": [],
   "source": [
    "%gui wx\n",
    "import sys\n",
    "import os\n",
    "\n",
    "#####################\n",
    "# Import of utils.py functions\n",
    "#####################\n",
    "# Required to get utils.py and access its functions\n",
    "notebook_dir = os.path.abspath(\"\")\n",
    "parent_dir = os.path.abspath(os.path.join(notebook_dir, '..'))\n",
    "sys.path.append(parent_dir)\n",
    "sys.path.append('.')\n",
    "from utils import loadFSL, FSLeyesServer, mkdir_no_exist, interactive_MCQ\n",
    "\n",
    "####################\n",
    "# DIPY_HOME should be set prior to import of dipy to make sure all downloads point to the right folder\n",
    "####################\n",
    "os.environ[\"DIPY_HOME\"] = \"/home/jovyan/Data\"\n",
    "\n",
    "\n",
    "#############################\n",
    "# Loading fsl and freesurfer within Neurodesk\n",
    "# You can find the list of available other modules by clicking on the \"Softwares\" tab on the left\n",
    "#############################\n",
    "import lmod\n",
    "await lmod.purge(force=True)\n",
    "await lmod.load('fsl/6.0.7.4')\n",
    "await lmod.load('freesurfer/7.4.1')\n",
    "await lmod.list()\n",
    "\n",
    "####################\n",
    "# Setup FSL path\n",
    "####################\n",
    "loadFSL()\n",
    "\n",
    "###################\n",
    "# Load all relevant libraries for the lab\n",
    "##################\n",
    "import fsl.wrappers\n",
    "from fsl.wrappers import fslmaths\n",
    "\n",
    "import mne_nirs\n",
    "import nilearn\n",
    "from nilearn.datasets import fetch_development_fmri\n",
    "\n",
    "import mne\n",
    "import mne_nirs\n",
    "import dipy\n",
    "from dipy.data import fetch_bundles_2_subjects, read_bundles_2_subjects\n",
    "import xml.etree.ElementTree as ET\n",
    "import os.path as op\n",
    "import nibabel as nib\n",
    "import glob\n",
    "\n",
    "import ants\n",
    "\n",
    "import openneuro\n",
    "from mne.datasets import sample\n",
    "from mne_bids import BIDSPath, read_raw_bids, print_dir_tree, make_report\n",
    "\n",
    "\n",
    "# Useful imports to define the direct download function below\n",
    "import requests\n",
    "import urllib.request\n",
    "from tqdm import tqdm\n",
    "\n",
    "\n",
    "# FSL function wrappers which we will call from python directly\n",
    "from fsl.wrappers import fast, bet\n",
    "from fsl.wrappers.misc import fslroi\n",
    "from fsl.wrappers import flirt\n",
    "\n",
    "# General purpose imports to handle paths, files etc\n",
    "import glob\n",
    "import pandas as pd\n",
    "import numpy as np\n",
    "import json\n",
    "import subprocess"
   ]
  },
  {
   "cell_type": "code",
   "execution_count": 2,
   "id": "ac89bdf9-94dd-41b6-966f-e260dd6aa4a6",
   "metadata": {},
   "outputs": [
    {
     "name": "stderr",
     "output_type": "stream",
     "text": [
      "\n",
      "(ipykernel_launcher.py:668): Gtk-CRITICAL **: 21:46:41.148: gtk_window_resize: assertion 'height > 0' failed\n"
     ]
    }
   ],
   "source": [
    "################\n",
    "# Start FSLeyes (very neat tool to visualize MRI data of all sorts) within Python\n",
    "################\n",
    "fsleyesDisplay = FSLeyesServer()\n",
    "fsleyesDisplay.show()"
   ]
  },
  {
   "cell_type": "code",
   "execution_count": null,
   "id": "07f0eefd-a296-4b76-90bd-59f0e69e3ded",
   "metadata": {},
   "outputs": [],
   "source": [
    "import subprocess\n",
    "dataset_id = 'ds000171'\n",
    "subject_id = 'control01'\n",
    "\n",
    "sample_path = \"/home/jovyan/Data/dataset\"\n",
    "mkdir_no_exist(sample_path)\n",
    "\n",
    "# Download one subject's data from each dataset\n",
    "bids_root = op.join(os.path.abspath(\"\"),sample_path, dataset_id)\n",
    "deriv_root = op.join(bids_root, 'derivatives')\n",
    "preproc_root = op.join(bids_root, 'derivatives','preprocessed_data')\n",
    "\n",
    "subprocess.run([\"openneuro-py\", \"download\", \"--dataset\", dataset_id, # Openneuro has for each dataset a unique identifier\n",
    "                \"--target-dir\", bids_root,  # The path where we want to save our data. You should save your data under /home/jovyan/Data/[your dataset ID] to be 100% fool-proof\n",
    "                \"--include\", op.join('sub-{}'.format(subject_id), '*'),# We are asking to get all files within the subject_dir/anat folder by using the wildcard *\n",
    "               ], check=True)"
   ]
  },
  {
   "cell_type": "code",
   "execution_count": 5,
   "id": "263a947c-6072-4d85-908b-9683458d4f0a",
   "metadata": {},
   "outputs": [
    {
     "name": "stdout",
     "output_type": "stream",
     "text": [
      "|ds000171/\n",
      "|--- CHANGES\n",
      "|--- README\n",
      "|--- dataset_description.json\n",
      "|--- participants.tsv\n",
      "|--- sub-control01/\n",
      "|------ anat/\n",
      "|--------- sub-control01_T1w.nii.gz\n",
      "|------ func/\n",
      "|--------- sub-control01_task-music_run-1_bold.nii.gz\n",
      "|--------- sub-control01_task-music_run-1_events.tsv\n",
      "|--------- sub-control01_task-music_run-2_bold.nii.gz\n",
      "|--------- sub-control01_task-music_run-2_events.tsv\n",
      "|--------- sub-control01_task-music_run-3_bold.nii.gz\n",
      "|--------- sub-control01_task-music_run-3_events.tsv\n",
      "|--------- sub-control01_task-nonmusic_run-4_bold.nii.gz\n",
      "|--------- sub-control01_task-nonmusic_run-4_events.tsv\n",
      "|--------- sub-control01_task-nonmusic_run-5_bold.nii.gz\n",
      "|--------- sub-control01_task-nonmusic_run-5_events.tsv\n"
     ]
    }
   ],
   "source": [
    "print_dir_tree(bids_root, max_depth=5)"
   ]
  },
  {
   "cell_type": "code",
   "execution_count": 7,
   "id": "482a847a-4290-467e-a48d-e23cfb61e93d",
   "metadata": {},
   "outputs": [
    {
     "name": "stdout",
     "output_type": "stream",
     "text": [
      "/home/jovyan/Data/dataset/ds000171\n"
     ]
    }
   ],
   "source": [
    "print(bids_root)"
   ]
  },
  {
   "cell_type": "markdown",
   "id": "de401afb-08ff-4a4e-ae11-16319df2de48",
   "metadata": {},
   "source": [
    "## 1.1.1 fMRI Voxel Standardization"
   ]
  },
  {
   "cell_type": "code",
   "execution_count": 12,
   "id": "aa536697-9de1-4281-9ecf-e684d7c79ce5",
   "metadata": {},
   "outputs": [],
   "source": [
    "mkdir_no_exist(op.join(preproc_root, \"sub-{}\".format(subject_id), \"func\"))\n",
    "\n",
    "# Run the standarization for each task run\n",
    "for r in range(1, 4):\n",
    "    # Compute the mean of the fMRI data\n",
    "    subprocess.run([\"fslmaths\", op.join(bids_root, \"sub-{}\".format(subject_id), \"func\", \"sub-{}_task-music_run-{}_bold.nii.gz\".format(subject_id, r)), \"-Tmean\", \n",
    "                    op.join(preproc_root, \"sub-{}\".format(subject_id), \"func\", \"sub-{}_task-music_run-{}_mean.nii.gz\".format(subject_id, r))        \n",
    "        \n",
    "    ], check=True)\n",
    "\n",
    "    # Computer the std of the fMRI data     \n",
    "    subprocess.run([\"fslmaths\", op.join(bids_root, \"sub-{}\".format(subject_id), \"func\", \"sub-{}_task-music_run-{}_bold.nii.gz\".format(subject_id, r)), \"-Tstd\",\n",
    "                    op.join(preproc_root, \"sub-{}\".format(subject_id), \"func\", \"sub-{}_task-music_run-{}_std.nii.gz\".format(subject_id, r))        \n",
    "        \n",
    "    ], check=True)\n",
    "\n",
    "    # Standardize data (X - mean / std)                  \n",
    "    subprocess.run([\"fslmaths\", op.join(bids_root, \"sub-{}\".format(subject_id), \"func\", \"sub-{}_task-music_run-{}_bold.nii.gz\".format(subject_id, r)), \"-sub\",\n",
    "                    op.join(preproc_root, \"sub-{}\".format(subject_id), \"func\", \"sub-{}_task-music_run-{}_mean.nii.gz\".format(subject_id, r)), \"-div\",\n",
    "                    op.join(preproc_root, \"sub-{}\".format(subject_id), \"func\", \"sub-{}_task-music_run-{}_std.nii.gz\".format(subject_id, r)),\n",
    "                    op.join(preproc_root, \"sub-{}\".format(subject_id), \"func\", \"sub-{}_task-music_run-{}_standardized.nii.gz\".format(subject_id, r))\n",
    "        \n",
    "    ], check=True)"
   ]
  }
 ],
 "metadata": {
  "kernelspec": {
   "display_name": "Python 3 (ipykernel)",
   "language": "python",
   "name": "python3"
  },
  "language_info": {
   "codemirror_mode": {
    "name": "ipython",
    "version": 3
   },
   "file_extension": ".py",
   "mimetype": "text/x-python",
   "name": "python",
   "nbconvert_exporter": "python",
   "pygments_lexer": "ipython3",
   "version": "3.11.6"
  }
 },
 "nbformat": 4,
 "nbformat_minor": 5
}

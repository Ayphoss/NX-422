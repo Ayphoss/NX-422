{
 "cells": [
  {
   "cell_type": "code",
   "execution_count": 1,
   "id": "544cd957-6955-42c8-8608-daa960803f5c",
   "metadata": {},
   "outputs": [],
   "source": [
    "%gui wx\n",
    "import sys\n",
    "import os\n",
    "\n",
    "#####################\n",
    "# Import of utils.py functions\n",
    "#####################\n",
    "# Required to get utils.py and access its functions\n",
    "notebook_dir = os.path.abspath(\"\")\n",
    "parent_dir = os.path.abspath(os.path.join(notebook_dir, '..'))\n",
    "sys.path.append(parent_dir)\n",
    "sys.path.append('.')\n",
    "from utils import loadFSL, FSLeyesServer, mkdir_no_exist, interactive_MCQ\n",
    "\n",
    "####################\n",
    "# DIPY_HOME should be set prior to import of dipy to make sure all downloads point to the right folder\n",
    "####################\n",
    "os.environ[\"DIPY_HOME\"] = \"/home/jovyan/Data\"\n",
    "\n",
    "\n",
    "#############################\n",
    "# Loading fsl and freesurfer within Neurodesk\n",
    "# You can find the list of available other modules by clicking on the \"Softwares\" tab on the left\n",
    "#############################\n",
    "import lmod\n",
    "await lmod.purge(force=True)\n",
    "await lmod.load('fsl/6.0.7.4')\n",
    "await lmod.load('freesurfer/7.4.1')\n",
    "await lmod.list()\n",
    "\n",
    "####################\n",
    "# Setup FSL path\n",
    "####################\n",
    "loadFSL()\n",
    "\n",
    "###################\n",
    "# Load all relevant libraries for the lab\n",
    "##################\n",
    "import fsl.wrappers\n",
    "from fsl.wrappers import fslmaths\n",
    "\n",
    "import mne_nirs\n",
    "import nilearn\n",
    "from nilearn.datasets import fetch_development_fmri\n",
    "\n",
    "import mne\n",
    "import mne_nirs\n",
    "import dipy\n",
    "from dipy.data import fetch_bundles_2_subjects, read_bundles_2_subjects\n",
    "import xml.etree.ElementTree as ET\n",
    "import os.path as op\n",
    "import nibabel as nib\n",
    "import glob\n",
    "\n",
    "import ants\n",
    "\n",
    "import openneuro\n",
    "from mne.datasets import sample\n",
    "from mne_bids import BIDSPath, read_raw_bids, print_dir_tree, make_report\n",
    "\n",
    "\n",
    "# Useful imports to define the direct download function below\n",
    "import requests\n",
    "import urllib.request\n",
    "from tqdm import tqdm\n",
    "\n",
    "\n",
    "# FSL function wrappers which we will call from python directly\n",
    "from fsl.wrappers import fast, bet\n",
    "from fsl.wrappers.misc import fslroi\n",
    "from fsl.wrappers import flirt\n",
    "from fsl.wrappers import mcflirt\n",
    "\n",
    "# General purpose imports to handle paths, files etc\n",
    "import glob\n",
    "import pandas as pd\n",
    "import numpy as np\n",
    "import json\n",
    "import subprocess"
   ]
  },
  {
   "cell_type": "code",
   "execution_count": 2,
   "id": "ac89bdf9-94dd-41b6-966f-e260dd6aa4a6",
   "metadata": {},
   "outputs": [
    {
     "name": "stderr",
     "output_type": "stream",
     "text": [
      "\n",
      "(ipykernel_launcher.py:1451): Gtk-CRITICAL **: 15:46:37.235: gtk_window_resize: assertion 'height > 0' failed\n",
      "15:46:38: Debug: ScreenToClient cannot work when toplevel window is not shown\n",
      "15:46:38: Debug: ScreenToClient cannot work when toplevel window is not shown\n",
      "15:46:38: Debug: ScreenToClient cannot work when toplevel window is not shown\n",
      "15:46:38: Debug: ScreenToClient cannot work when toplevel window is not shown\n",
      "15:46:38: Debug: ScreenToClient cannot work when toplevel window is not shown\n",
      "15:46:38: Debug: ScreenToClient cannot work when toplevel window is not shown\n",
      "15:46:38: Debug: ScreenToClient cannot work when toplevel window is not shown\n",
      "15:46:38: Debug: ScreenToClient cannot work when toplevel window is not shown\n",
      "15:46:38: Debug: ScreenToClient cannot work when toplevel window is not shown\n",
      "15:46:38: Debug: ScreenToClient cannot work when toplevel window is not shown\n",
      "15:46:38: Debug: ScreenToClient cannot work when toplevel window is not shown\n"
     ]
    }
   ],
   "source": [
    "################\n",
    "# Start FSLeyes (very neat tool to visualize MRI data of all sorts) within Python\n",
    "################\n",
    "fsleyesDisplay = FSLeyesServer()\n",
    "fsleyesDisplay.show()"
   ]
  },
  {
   "cell_type": "code",
   "execution_count": null,
   "id": "07f0eefd-a296-4b76-90bd-59f0e69e3ded",
   "metadata": {},
   "outputs": [],
   "source": [
    "import subprocess\n",
    "dataset_id = 'ds000171'\n",
    "subject_id = 'control01'\n",
    "\n",
    "sample_path = \"/home/jovyan/Data/dataset\"\n",
    "mkdir_no_exist(sample_path)\n",
    "\n",
    "# Download one subject's data from each dataset\n",
    "bids_root = op.join(os.path.abspath(\"\"),sample_path, dataset_id)\n",
    "deriv_root = op.join(bids_root, 'derivatives')\n",
    "preproc_root = op.join(bids_root, 'derivatives','preprocessed_data')\n",
    "\n",
    "subprocess.run([\"openneuro-py\", \"download\", \"--dataset\", dataset_id, # Openneuro has for each dataset a unique identifier\n",
    "                \"--target-dir\", bids_root,  # The path where we want to save our data. You should save your data under /home/jovyan/Data/[your dataset ID] to be 100% fool-proof\n",
    "                \"--include\", op.join('sub-{}'.format(subject_id), '*'),# We are asking to get all files within the subject_dir/anat folder by using the wildcard *\n",
    "               ], check=True)"
   ]
  },
  {
   "cell_type": "code",
   "execution_count": 7,
   "id": "263a947c-6072-4d85-908b-9683458d4f0a",
   "metadata": {
    "scrolled": true
   },
   "outputs": [
    {
     "name": "stdout",
     "output_type": "stream",
     "text": [
      "|ds000171/\n",
      "|--- CHANGES\n",
      "|--- README\n",
      "|--- dataset_description.json\n",
      "|--- participants.tsv\n",
      "|--- sub-control01/\n",
      "|------ anat/\n",
      "|--------- sub-control01_T1w.nii.gz\n",
      "|------ func/\n",
      "|--------- sub-control01_task-music_run-1_bold.nii.gz\n",
      "|--------- sub-control01_task-music_run-1_events.tsv\n",
      "|--------- sub-control01_task-music_run-2_bold.nii.gz\n",
      "|--------- sub-control01_task-music_run-2_events.tsv\n",
      "|--------- sub-control01_task-music_run-3_bold.nii.gz\n",
      "|--------- sub-control01_task-music_run-3_events.tsv\n",
      "|--------- sub-control01_task-nonmusic_run-4_bold.nii.gz\n",
      "|--------- sub-control01_task-nonmusic_run-4_events.tsv\n",
      "|--------- sub-control01_task-nonmusic_run-5_bold.nii.gz\n",
      "|--------- sub-control01_task-nonmusic_run-5_events.tsv\n"
     ]
    }
   ],
   "source": [
    "print_dir_tree(bids_root, max_depth=5)"
   ]
  },
  {
   "cell_type": "code",
   "execution_count": 4,
   "id": "482a847a-4290-467e-a48d-e23cfb61e93d",
   "metadata": {},
   "outputs": [
    {
     "name": "stdout",
     "output_type": "stream",
     "text": [
      "/home/jovyan/Data/dataset/ds000171\n"
     ]
    }
   ],
   "source": [
    "print(bids_root)"
   ]
  },
  {
   "cell_type": "markdown",
   "id": "de401afb-08ff-4a4e-ae11-16319df2de48",
   "metadata": {},
   "source": [
    "## 1.1.1 fMRI Voxel Standardization"
   ]
  },
  {
   "cell_type": "markdown",
   "id": "def6979c-42d8-4008-b1fe-f698fc904948",
   "metadata": {
    "jp-MarkdownHeadingCollapsed": true
   },
   "source": [
    "### Old"
   ]
  },
  {
   "cell_type": "code",
   "execution_count": null,
   "id": "aa536697-9de1-4281-9ecf-e684d7c79ce5",
   "metadata": {},
   "outputs": [],
   "source": [
    "mkdir_no_exist(op.join(preproc_root, \"sub-{}\".format(subject_id), \"func\"))\n",
    "\n",
    "# Run the standarization for each task run\n",
    "for r in range(1, 4):\n",
    "    # Compute the mean of the fMRI data\n",
    "    subprocess.run([\"bet\", op.join(bids_root, \"sub-{}\".format(subject_id), \"func\", \"sub-{}_task-music_run-{}_bold.nii.gz\".format(subject_id, r)),\n",
    "                    op.join(preproc_root, \"sub-{}\".format(subject_id), \"func\", \"sub-{}_task-music_run-{}.nii.gz\".format(subject_id, r)), '-m'\n",
    "    ], check=True)\n",
    "\n",
    "    subprocess.run([\"fslmaths\", op.join(bids_root, \"sub-{}\".format(subject_id), \"func\", \"sub-{}_task-music_run-{}_bold.nii.gz\".format(subject_id, r)),\n",
    "                    '-mas', op.join(preproc_root, \"sub-{}\".format(subject_id), \"func\", \"sub-{}_task-music_run-{}_mask.nii.gz\".format(subject_id, r)),\n",
    "                    op.join(preproc_root, \"sub-{}\".format(subject_id), \"func\", \"sub-{}_task-music_run-{}_masked.nii.gz\".format(subject_id, r))\n",
    "    ], check=True)\n",
    "    \n",
    "    subprocess.run([\"fslmaths\", op.join(preproc_root, \"sub-{}\".format(subject_id), \"func\", \"sub-{}_task-music_run-{}_masked.nii.gz\".format(subject_id, r)), \"-mean\", \n",
    "                    op.join(preproc_root, \"sub-{}\".format(subject_id), \"func\", \"sub-{}_task-music_run-{}_mean.nii.gz\".format(subject_id, r))        \n",
    "        \n",
    "    ], check=True)\n",
    "\n",
    "    # Computer the std of the fMRI data     \n",
    "    subprocess.run([\"fslmaths\", op.join(preproc_root, \"sub-{}\".format(subject_id), \"func\", \"sub-{}_task-music_run-{}_masked.nii.gz\".format(subject_id, r)), \"-std\",\n",
    "                    op.join(preproc_root, \"sub-{}\".format(subject_id), \"func\", \"sub-{}_task-music_run-{}_std.nii.gz\".format(subject_id, r))        \n",
    "        \n",
    "    ], check=True)\n",
    "\n",
    "    # # Correct the zero values in the std\n",
    "    # subprocess.run([\"fslmaths\", op.join(preproc_root, \"sub-{}\".format(subject_id), \"func\", \"sub-{}_task-music_run-{}_std.nii.gz\".format(subject_id, r)),\n",
    "    #                 \"-add\", \"0.001\",\n",
    "    #                 op.join(preproc_root, \"sub-{}\".format(subject_id), \"func\", \"sub-{}_task-music_run-{}_stdfix.nii.gz\".format(subject_id, r))\n",
    "        \n",
    "    # ], check=True)\n",
    "\n",
    "    # Standardize data (X - mean / std)                  \n",
    "    subprocess.run([\"fslmaths\", op.join(preproc_root, \"sub-{}\".format(subject_id), \"func\", \"sub-{}_task-music_run-{}_masked.nii.gz\".format(subject_id, r)), \"-sub\",\n",
    "                    op.join(preproc_root, \"sub-{}\".format(subject_id), \"func\", \"sub-{}_task-music_run-{}_mean.nii.gz\".format(subject_id, r)), \"-div\",\n",
    "                    op.join(preproc_root, \"sub-{}\".format(subject_id), \"func\", \"sub-{}_task-music_run-{}_std.nii.gz\".format(subject_id, r)),\n",
    "                    op.join(preproc_root, \"sub-{}\".format(subject_id), \"func\", \"sub-{}_task-music_run-{}_standardized.nii.gz\".format(subject_id, r))\n",
    "        \n",
    "    ], check=True)"
   ]
  },
  {
   "cell_type": "markdown",
   "id": "670bba55-8584-4668-920f-074932847d5e",
   "metadata": {},
   "source": [
    "### New: through fslmaths inm (intenisty normalization (through 3d mean))"
   ]
  },
  {
   "cell_type": "code",
   "execution_count": 5,
   "id": "63fbf884-496f-4472-841d-0c1f1bbb40b4",
   "metadata": {},
   "outputs": [
    {
     "name": "stdout",
     "output_type": "stream",
     "text": [
      "done\n"
     ]
    }
   ],
   "source": [
    "mkdir_no_exist(op.join(preproc_root, \"sub-{}\".format(subject_id), \"func\"))\n",
    "\n",
    "for r in range(1,4):\n",
    "    # Standardize so that the mean becomes 100\n",
    "    subprocess.run([\"fslmaths\", op.join(bids_root, \"sub-{}\".format(subject_id), \"func\", \"sub-{}_task-music_run-{}_bold.nii.gz\".format(subject_id, r)),\n",
    "                    \"-inm\", \"100\", op.join(preproc_root, \"sub-{}\".format(subject_id), \"func\", \"sub-{}_task-music_run-{}_inm.nii.gz\".format(subject_id, r)),\n",
    "    ], check=True)\n",
    "\n",
    "print(\"done\")"
   ]
  },
  {
   "cell_type": "code",
   "execution_count": 7,
   "id": "518f033d-1aa2-456f-924b-1d529d0ecc9f",
   "metadata": {},
   "outputs": [],
   "source": [
    "fmri_files = []\n",
    "\n",
    "for r in range(1, 4):\n",
    "    fmri_files.append(op.join(preproc_root, \"sub-{}\".format(subject_id), \"func\", \"sub-{}_task-music_run-{}_inm.nii.gz\".format(subject_id, r)))\n",
    "\n",
    "concat_img = nilearn.image.concat_imgs(fmri_files)\n",
    "concat_img.to_filename(op.join(preproc_root, \"sub-{}\".format(subject_id), \"func\", \"sub-{}_task-music_run_concat.nii.gz\".format(subject_id)))"
   ]
  },
  {
   "cell_type": "code",
   "execution_count": 8,
   "id": "43ce81a2-5fa9-4c00-b05d-3082981e83f4",
   "metadata": {},
   "outputs": [
    {
     "name": "stderr",
     "output_type": "stream",
     "text": [
      "\n",
      "(ipykernel_launcher.py:1451): Gdk-WARNING **: 15:59:59.892: gdkdrawable-x11.c:952 drawable is not a pixmap or window\n"
     ]
    }
   ],
   "source": [
    "fsleyesDisplay.resetOverlays()\n",
    "fsleyesDisplay.load(op.join(preproc_root, \"sub-{}\".format(subject_id), \"func\", \"sub-{}_task-music_run-{}_inm.nii.gz\".format(subject_id, 2)))\n",
    "# fsleyesDisplay.load(op.join(bids_root, \"sub-{}\".format(subject_id), \"func\", \"sub-{}_task-music_run-{}_bold.nii.gz\".format(subject_id, 1)))"
   ]
  },
  {
   "cell_type": "code",
   "execution_count": 11,
   "id": "74899cb3-f871-4f3d-971c-169800d6e2cc",
   "metadata": {},
   "outputs": [
    {
     "data": {
      "text/plain": [
       "[<matplotlib.lines.Line2D at 0x7d9db342d9d0>]"
      ]
     },
     "execution_count": 11,
     "metadata": {},
     "output_type": "execute_result"
    },
    {
     "data": {
      "image/png": "[encoded data removed]",
      "text/plain": [
       "<Figure size 640x480 with 1 Axes>"
      ]
     },
     "metadata": {},
     "output_type": "display_data"
    }
   ],
   "source": [
    "import matplotlib.pyplot as plt\n",
    "import nibabel as nib\n",
    "\n",
    "plt.plot(nib.load(op.join(preproc_root, \"sub-{}\".format(subject_id), \"func\", \"sub-{}_task-music_run_concat.nii.gz\".format(subject_id))).get_fdata().mean(axis=(0,1,2)))\n"
   ]
  },
  {
   "cell_type": "markdown",
   "id": "79e5c048-e99f-49f9-aaf2-6d82a4d05217",
   "metadata": {},
   "source": [
    "## 1.1.2 Skull Stripping, Motion Correction, and Smoothing"
   ]
  },
  {
   "cell_type": "code",
   "execution_count": 13,
   "id": "53299310-ee02-42c2-9176-5331788709d0",
   "metadata": {},
   "outputs": [
    {
     "data": {
      "text/plain": [
       "CompletedProcess(args=['bet', '/home/jovyan/Data/dataset/ds000171/derivatives/preprocessed_data/sub-control01/func/sub-control01_task-music_run_concat.nii.gz', '/home/jovyan/Data/dataset/ds000171/derivatives/preprocessed_data/sub-control01/func/sub-control01_task-music_run_stripped.nii.gz', '-m', '-F'], returncode=0)"
      ]
     },
     "execution_count": 13,
     "metadata": {},
     "output_type": "execute_result"
    }
   ],
   "source": [
    "subprocess.run([\"bet\", op.join(preproc_root, \"sub-{}\".format(subject_id), \"func\", \"sub-{}_task-music_run_concat.nii.gz\".format(subject_id)),\n",
    "                op.join(preproc_root, \"sub-{}\".format(subject_id), \"func\", \"sub-{}_task-music_run_stripped.nii.gz\".format(subject_id)), \"-m\", \"-F\",\n",
    "    \n",
    "], check=True)"
   ]
  },
  {
   "cell_type": "markdown",
   "id": "60d4f2ae-6582-4f43-b479-b9a049159997",
   "metadata": {},
   "source": [
    "#### TODO: Perform manual correction on skull stripping"
   ]
  },
  {
   "cell_type": "code",
   "execution_count": 14,
   "id": "629b6794-03cb-465f-8301-0b8e30c0ac57",
   "metadata": {
    "scrolled": true
   },
   "outputs": [
    {
     "name": "stderr",
     "output_type": "stream",
     "text": [
      "\n",
      "(ipykernel_launcher.py:1451): GLib-GIO-CRITICAL **: 16:04:14.406: GFileInfo created without standard::is-hidden\n",
      "\n",
      "(ipykernel_launcher.py:1451): GLib-GIO-CRITICAL **: 16:04:14.406: file ../gio/gfileinfo.c: line 1633 (g_file_info_get_is_hidden): should not be reached\n",
      "\n",
      "(ipykernel_launcher.py:1451): GLib-GIO-CRITICAL **: 16:04:14.406: GFileInfo created without standard::is-backup\n",
      "\n",
      "(ipykernel_launcher.py:1451): GLib-GIO-CRITICAL **: 16:04:14.406: file ../gio/gfileinfo.c: line 1655 (g_file_info_get_is_backup): should not be reached\n",
      "\n",
      "(ipykernel_launcher.py:1451): GLib-GIO-CRITICAL **: 16:04:14.406: GFileInfo created without standard::is-hidden\n",
      "\n",
      "(ipykernel_launcher.py:1451): GLib-GIO-CRITICAL **: 16:04:14.406: file ../gio/gfileinfo.c: line 1633 (g_file_info_get_is_hidden): should not be reached\n",
      "\n",
      "(ipykernel_launcher.py:1451): GLib-GIO-CRITICAL **: 16:04:14.406: GFileInfo created without standard::is-backup\n",
      "\n",
      "(ipykernel_launcher.py:1451): GLib-GIO-CRITICAL **: 16:04:14.406: file ../gio/gfileinfo.c: line 1655 (g_file_info_get_is_backup): should not be reached\n",
      "\n",
      "(ipykernel_launcher.py:1451): GLib-GIO-CRITICAL **: 16:04:14.406: GFileInfo created without standard::is-hidden\n",
      "\n",
      "(ipykernel_launcher.py:1451): GLib-GIO-CRITICAL **: 16:04:14.406: file ../gio/gfileinfo.c: line 1633 (g_file_info_get_is_hidden): should not be reached\n",
      "\n",
      "(ipykernel_launcher.py:1451): GLib-GIO-CRITICAL **: 16:04:14.406: GFileInfo created without standard::is-backup\n",
      "\n",
      "(ipykernel_launcher.py:1451): GLib-GIO-CRITICAL **: 16:04:14.406: file ../gio/gfileinfo.c: line 1655 (g_file_info_get_is_backup): should not be reached\n",
      "\n",
      "(ipykernel_launcher.py:1451): GLib-GIO-CRITICAL **: 16:04:14.406: GFileInfo created without standard::is-hidden\n",
      "\n",
      "(ipykernel_launcher.py:1451): GLib-GIO-CRITICAL **: 16:04:14.406: file ../gio/gfileinfo.c: line 1633 (g_file_info_get_is_hidden): should not be reached\n",
      "\n",
      "(ipykernel_launcher.py:1451): GLib-GIO-CRITICAL **: 16:04:14.406: GFileInfo created without standard::is-backup\n",
      "\n",
      "(ipykernel_launcher.py:1451): GLib-GIO-CRITICAL **: 16:04:14.406: file ../gio/gfileinfo.c: line 1655 (g_file_info_get_is_backup): should not be reached\n",
      "\n",
      "(ipykernel_launcher.py:1451): GLib-GIO-CRITICAL **: 16:04:14.406: GFileInfo created without standard::is-hidden\n",
      "\n",
      "(ipykernel_launcher.py:1451): GLib-GIO-CRITICAL **: 16:04:14.406: file ../gio/gfileinfo.c: line 1633 (g_file_info_get_is_hidden): should not be reached\n",
      "\n",
      "(ipykernel_launcher.py:1451): GLib-GIO-CRITICAL **: 16:04:14.406: GFileInfo created without standard::is-backup\n",
      "\n",
      "(ipykernel_launcher.py:1451): GLib-GIO-CRITICAL **: 16:04:14.406: file ../gio/gfileinfo.c: line 1655 (g_file_info_get_is_backup): should not be reached\n"
     ]
    }
   ],
   "source": [
    "fsleyesDisplay.resetOverlays()\n",
    "fsleyesDisplay.load(op.join(preproc_root, \"sub-{}\".format(subject_id), \"func\", \"sub-{}_task-music_run_stripped.nii.gz\".format(subject_id)))\n",
    "fsleyesDisplay.load(op.join(preproc_root, \"sub-{}\".format(subject_id), \"func\", \"sub-{}_task-music_run_stripped_mask.nii.gz\".format(subject_id)))\n"
   ]
  },
  {
   "cell_type": "code",
   "execution_count": 17,
   "id": "2cc3b2d5-2a3f-459f-b411-653c8c181900",
   "metadata": {},
   "outputs": [
    {
     "name": "stderr",
     "output_type": "stream",
     "text": [
      "Processed data will be saved as /home/jovyan/Data/dataset/ds000171/derivatives/preprocessed_data/sub-control01/func/sub-control01_task-music_run_moco.nii.gz\n",
      "\n",
      "McFLIRT v 2.0 - FMRI motion correction\n",
      "\n",
      "Reading time series... \n",
      "first iteration - 8mm scaling, set tolerance\n",
      "Rescaling reference volume [157] to 8 mm pixels\n",
      "Registering volumes ... [158][159][160][161][162][163][164][165][166][167][168][169][170][171][172][173][174][175][176][177][178][179][180][181][182][183][184][185][186][187][188][189][190][191][192][193][194][195][196][197][198][199][200][201][202][203][204][205][206][207][208][209][210][211][212][213][214][215][216][217][218][219][220][221][222][223][224][225][226][227][228][229][230][231][232][233][234][235][236][237][238][239][240][241][242][243][244][245][246][247][248][249][250][251][252][253][254][255][256][257][258][259][260][261][262][263][264][265][266][267][268][269][270][271][272][273][274][275][276][277][278][279][280][281][282][283][284][285][286][287][288][289][290][291][292][293][294][295][296][297][298][299][300][301][302][303][304][305][306][307][308][309][310][311][312][313][314][156][155][154][153][152][151][150][149][148][147][146][145][144][143][142][141][140][139][138][137][136][135][134][133][132][131][130][129][128][127][126][125][124][123][122][121][120][119][118][117][116][115][114][113][112][111][110][109][108][107][106][105][104][103][102][101][100][99][98][97][96][95][94][93][92][91][90][89][88][87][86][85][84][83][82][81][80][79][78][77][76][75][74][73][72][71][70][69][68][67][66][65][64][63][62][61][60][59][58][57][56][55][54][53][52][51][50][49][48][47][46][45][44][43][42][41][40][39][38][37][36][35][34][33][32][31][30][29][28][27][26][25][24][23][22][21][20][19][18][17][16][15][14][13][12][11][10][9][8][7][6][5][4][3][2][1][0]\n",
      "second iteration - drop to 4mm scaling\n",
      "Rescaling reference volume [157] to 4 mm pixels\n",
      "Registering volumes ... [158][159][160][161][162][163][164][165][166][167][168][169][170][171][172][173][174][175][176][177][178][179][180][181][182][183][184][185][186][187][188][189][190][191][192][193][194][195][196][197][198][199][200][201][202][203][204][205][206][207][208][209][210][211][212][213][214][215][216][217][218][219][220][221][222][223][224][225][226][227][228][229][230][231][232][233][234][235][236][237][238][239][240][241][242][243][244][245][246][247][248][249][250][251][252][253][254][255][256][257][258][259][260][261][262][263][264][265][266][267][268][269][270][271][272][273][274][275][276][277][278][279][280][281][282][283][284][285][286][287][288][289][290][291][292][293][294][295][296][297][298][299][300][301][302][303][304][305][306][307][308][309][310][311][312][313][314][156][155][154][153][152][151][150][149][148][147][146][145][144][143][142][141][140][139][138][137][136][135][134][133][132][131][130][129][128][127][126][125][124][123][122][121][120][119][118][117][116][115][114][113][112][111][110][109][108][107][106][105][104][103][102][101][100][99][98][97][96][95][94][93][92][91][90][89][88][87][86][85][84][83][82][81][80][79][78][77][76][75][74][73][72][71][70][69][68][67][66][65][64][63][62][61][60][59][58][57][56][55][54][53][52][51][50][49][48][47][46][45][44][43][42][41][40][39][38][37][36][35][34][33][32][31][30][29][28][27][26][25][24][23][22][21][20][19][18][17][16][15][14][13][12][11][10][9][8][7][6][5][4][3][2][1][0]\n",
      "third iteration - 4mm scaling, eighth tolerance\n"
     ]
    },
    {
     "name": "stdout",
     "output_type": "stream",
     "text": [
      "refnum = 157\n",
      "Original_refvol = -1\n"
     ]
    },
    {
     "name": "stderr",
     "output_type": "stream",
     "text": [
      "Registering volumes ... [158][159][160][161][162][163][164][165][166][167][168][169][170][171][172][173][174][175][176][177][178][179][180][181][182][183][184][185][186][187][188][189][190][191][192][193][194][195][196][197][198][199][200][201][202][203][204][205][206][207][208][209][210][211][212][213][214][215][216][217][218][219][220][221][222][223][224][225][226][227][228][229][230][231][232][233][234][235][236][237][238][239][240][241][242][243][244][245][246][247][248][249][250][251][252][253][254][255][256][257][258][259][260][261][262][263][264][265][266][267][268][269][270][271][272][273][274][275][276][277][278][279][280][281][282][283][284][285][286][287][288][289][290][291][292][293][294][295][296][297][298][299][300][301][302][303][304][305][306][307][308][309][310][311][312][313][314][156][155][154][153][152][151][150][149][148][147][146][145][144][143][142][141][140][139][138][137][136][135][134][133][132][131][130][129][128][127][126][125][124][123][122][121][120][119][118][117][116][115][114][113][112][111][110][109][108][107][106][105][104][103][102][101][100][99][98][97][96][95][94][93][92][91][90][89][88][87][86][85][84][83][82][81][80][79][78][77][76][75][74][73][72][71][70][69][68][67][66][65][64][63][62][61][60][59][58][57][56][55][54][53][52][51][50][49][48][47][46][45][44][43][42][41][40][39][38][37][36][35][34][33][32][31][30][29][28][27][26][25][24][23][22][21][20][19][18][17][16][15][14][13][12][11][10][9][8][7][6][5][4][3][2][1][0]\n",
      "Saving motion corrected time series... \n"
     ]
    },
    {
     "data": {
      "text/plain": [
       "{}"
      ]
     },
     "execution_count": 17,
     "metadata": {},
     "output_type": "execute_result"
    },
    {
     "name": "stderr",
     "output_type": "stream",
     "text": [
      "\n",
      "(ipykernel_launcher.py:1451): GLib-GIO-CRITICAL **: 16:09:44.599: GFileInfo created without standard::is-hidden\n",
      "\n",
      "(ipykernel_launcher.py:1451): GLib-GIO-CRITICAL **: 16:09:44.599: file ../gio/gfileinfo.c: line 1633 (g_file_info_get_is_hidden): should not be reached\n",
      "\n",
      "(ipykernel_launcher.py:1451): GLib-GIO-CRITICAL **: 16:09:44.599: GFileInfo created without standard::is-backup\n",
      "\n",
      "(ipykernel_launcher.py:1451): GLib-GIO-CRITICAL **: 16:09:44.599: file ../gio/gfileinfo.c: line 1655 (g_file_info_get_is_backup): should not be reached\n",
      "\n",
      "(ipykernel_launcher.py:1451): GLib-GIO-CRITICAL **: 16:11:44.652: GFileInfo created without standard::is-hidden\n",
      "\n",
      "(ipykernel_launcher.py:1451): GLib-GIO-CRITICAL **: 16:11:44.652: file ../gio/gfileinfo.c: line 1633 (g_file_info_get_is_hidden): should not be reached\n",
      "\n",
      "(ipykernel_launcher.py:1451): GLib-GIO-CRITICAL **: 16:11:44.652: GFileInfo created without standard::is-backup\n",
      "\n",
      "(ipykernel_launcher.py:1451): GLib-GIO-CRITICAL **: 16:11:44.652: file ../gio/gfileinfo.c: line 1655 (g_file_info_get_is_backup): should not be reached\n"
     ]
    }
   ],
   "source": [
    "mcflirt(infile=op.join(preproc_root, \"sub-{}\".format(subject_id), \"func\", \"sub-{}_task-music_run_stripped.nii.gz\".format(subject_id)), o=op.join(preproc_root, \"sub-{}\".format(subject_id), \"func\", \"sub-{}_task-music_run_moco.nii.gz\".format(subject_id)), plots=True, report=True, dof=6, mats=True)"
   ]
  },
  {
   "cell_type": "code",
   "execution_count": 19,
   "id": "6429a444-6c31-4cc4-b0a2-c46b17817cf8",
   "metadata": {},
   "outputs": [
    {
     "name": "stderr",
     "output_type": "stream",
     "text": [
      "\n",
      "(ipykernel_launcher.py:1451): GLib-GIO-CRITICAL **: 16:13:44.703: GFileInfo created without standard::is-hidden\n",
      "\n",
      "(ipykernel_launcher.py:1451): GLib-GIO-CRITICAL **: 16:13:44.703: file ../gio/gfileinfo.c: line 1633 (g_file_info_get_is_hidden): should not be reached\n",
      "\n",
      "(ipykernel_launcher.py:1451): GLib-GIO-CRITICAL **: 16:13:44.703: GFileInfo created without standard::is-backup\n",
      "\n",
      "(ipykernel_launcher.py:1451): GLib-GIO-CRITICAL **: 16:13:44.703: file ../gio/gfileinfo.c: line 1655 (g_file_info_get_is_backup): should not be reached\n",
      "\n",
      "(ipykernel_launcher.py:1451): GLib-GIO-CRITICAL **: 16:15:44.759: GFileInfo created without standard::is-hidden\n",
      "\n",
      "(ipykernel_launcher.py:1451): GLib-GIO-CRITICAL **: 16:15:44.759: file ../gio/gfileinfo.c: line 1633 (g_file_info_get_is_hidden): should not be reached\n",
      "\n",
      "(ipykernel_launcher.py:1451): GLib-GIO-CRITICAL **: 16:15:44.759: GFileInfo created without standard::is-backup\n",
      "\n",
      "(ipykernel_launcher.py:1451): GLib-GIO-CRITICAL **: 16:15:44.759: file ../gio/gfileinfo.c: line 1655 (g_file_info_get_is_backup): should not be reached\n"
     ]
    }
   ],
   "source": [
    "fsleyesDisplay.resetOverlays()\n",
    "fsleyesDisplay.load(op.join(preproc_root, \"sub-{}\".format(subject_id), \"func\", \"sub-{}_task-music_run_moco.nii.gz\".format(subject_id)))"
   ]
  },
  {
   "cell_type": "code",
   "execution_count": 22,
   "id": "4f0ff7dd-a7ec-43ed-85fe-f26b1a5aec87",
   "metadata": {},
   "outputs": [
    {
     "data": {
      "text/plain": [
       "CompletedProcess(args=['fslmaths', '/home/jovyan/Data/dataset/ds000171/derivatives/preprocessed_data/sub-control01/func/sub-control01_task-music_run_moco.nii.gz', '-s', '1.6986580601324954', '/home/jovyan/Data/dataset/ds000171/derivatives/preprocessed_data/sub-control01/func/sub-control01_task-music_run_moco.nii.gz_smoothed-6mm'], returncode=0)"
      ]
     },
     "execution_count": 22,
     "metadata": {},
     "output_type": "execute_result"
    },
    {
     "name": "stderr",
     "output_type": "stream",
     "text": [
      "\n",
      "(ipykernel_launcher.py:1451): GLib-GIO-CRITICAL **: 16:23:44.993: GFileInfo created without standard::is-hidden\n",
      "\n",
      "(ipykernel_launcher.py:1451): GLib-GIO-CRITICAL **: 16:23:44.993: file ../gio/gfileinfo.c: line 1633 (g_file_info_get_is_hidden): should not be reached\n",
      "\n",
      "(ipykernel_launcher.py:1451): GLib-GIO-CRITICAL **: 16:23:44.993: GFileInfo created without standard::is-backup\n",
      "\n",
      "(ipykernel_launcher.py:1451): GLib-GIO-CRITICAL **: 16:23:44.993: file ../gio/gfileinfo.c: line 1655 (g_file_info_get_is_backup): should not be reached\n"
     ]
    }
   ],
   "source": [
    "# nilearn.image.smooth_img(op.join(preproc_root, \"sub-{}\".format(subject_id), \"func\", \"sub-{}_task-music_run_moco.nii.gz\".format(subject_id)),6)\n",
    "subprocess.run(['fslmaths',op.join(preproc_root, \"sub-{}\".format(subject_id), \"func\", \"sub-{}_task-music_run_moco.nii.gz\".format(subject_id)), '-s', str(4/2.3548), '{}_smoothed-6mm'.format(op.join(preproc_root, \"sub-{}\".format(subject_id), \"func\", \"sub-{}_task-music_run_moco.nii.gz\".format(subject_id)))])"
   ]
  },
  {
   "cell_type": "code",
   "execution_count": 24,
   "id": "9c96f913-b7b1-44d4-8fa8-3622c7e948ee",
   "metadata": {},
   "outputs": [
    {
     "name": "stderr",
     "output_type": "stream",
     "text": [
      "\n",
      "(ipykernel_launcher.py:1451): GLib-GIO-CRITICAL **: 16:25:45.049: GFileInfo created without standard::is-hidden\n",
      "\n",
      "(ipykernel_launcher.py:1451): GLib-GIO-CRITICAL **: 16:25:45.049: file ../gio/gfileinfo.c: line 1633 (g_file_info_get_is_hidden): should not be reached\n",
      "\n",
      "(ipykernel_launcher.py:1451): GLib-GIO-CRITICAL **: 16:25:45.049: GFileInfo created without standard::is-backup\n",
      "\n",
      "(ipykernel_launcher.py:1451): GLib-GIO-CRITICAL **: 16:25:45.049: file ../gio/gfileinfo.c: line 1655 (g_file_info_get_is_backup): should not be reached\n",
      "\n",
      "(ipykernel_launcher.py:1451): GLib-GIO-CRITICAL **: 16:27:45.100: GFileInfo created without standard::is-hidden\n",
      "\n",
      "(ipykernel_launcher.py:1451): GLib-GIO-CRITICAL **: 16:27:45.100: file ../gio/gfileinfo.c: line 1633 (g_file_info_get_is_hidden): should not be reached\n",
      "\n",
      "(ipykernel_launcher.py:1451): GLib-GIO-CRITICAL **: 16:27:45.100: GFileInfo created without standard::is-backup\n",
      "\n",
      "(ipykernel_launcher.py:1451): GLib-GIO-CRITICAL **: 16:27:45.100: file ../gio/gfileinfo.c: line 1655 (g_file_info_get_is_backup): should not be reached\n",
      "\n",
      "(ipykernel_launcher.py:1451): GLib-GIO-CRITICAL **: 16:29:45.158: GFileInfo created without standard::is-hidden\n",
      "\n",
      "(ipykernel_launcher.py:1451): GLib-GIO-CRITICAL **: 16:29:45.158: file ../gio/gfileinfo.c: line 1633 (g_file_info_get_is_hidden): should not be reached\n",
      "\n",
      "(ipykernel_launcher.py:1451): GLib-GIO-CRITICAL **: 16:29:45.158: GFileInfo created without standard::is-backup\n",
      "\n",
      "(ipykernel_launcher.py:1451): GLib-GIO-CRITICAL **: 16:29:45.158: file ../gio/gfileinfo.c: line 1655 (g_file_info_get_is_backup): should not be reached\n",
      "\n",
      "(ipykernel_launcher.py:1451): GLib-GIO-CRITICAL **: 16:31:45.213: GFileInfo created without standard::is-hidden\n",
      "\n",
      "(ipykernel_launcher.py:1451): GLib-GIO-CRITICAL **: 16:31:45.213: file ../gio/gfileinfo.c: line 1633 (g_file_info_get_is_hidden): should not be reached\n",
      "\n",
      "(ipykernel_launcher.py:1451): GLib-GIO-CRITICAL **: 16:31:45.213: GFileInfo created without standard::is-backup\n",
      "\n",
      "(ipykernel_launcher.py:1451): GLib-GIO-CRITICAL **: 16:31:45.213: file ../gio/gfileinfo.c: line 1655 (g_file_info_get_is_backup): should not be reached\n",
      "\n",
      "(ipykernel_launcher.py:1451): GLib-GIO-CRITICAL **: 16:33:45.268: GFileInfo created without standard::is-hidden\n",
      "\n",
      "(ipykernel_launcher.py:1451): GLib-GIO-CRITICAL **: 16:33:45.268: file ../gio/gfileinfo.c: line 1633 (g_file_info_get_is_hidden): should not be reached\n",
      "\n",
      "(ipykernel_launcher.py:1451): GLib-GIO-CRITICAL **: 16:33:45.268: GFileInfo created without standard::is-backup\n",
      "\n",
      "(ipykernel_launcher.py:1451): GLib-GIO-CRITICAL **: 16:33:45.268: file ../gio/gfileinfo.c: line 1655 (g_file_info_get_is_backup): should not be reached\n",
      "\n",
      "(ipykernel_launcher.py:1451): GLib-GIO-CRITICAL **: 16:35:45.343: GFileInfo created without standard::is-hidden\n",
      "\n",
      "(ipykernel_launcher.py:1451): GLib-GIO-CRITICAL **: 16:35:45.343: file ../gio/gfileinfo.c: line 1633 (g_file_info_get_is_hidden): should not be reached\n",
      "\n",
      "(ipykernel_launcher.py:1451): GLib-GIO-CRITICAL **: 16:35:45.343: GFileInfo created without standard::is-backup\n",
      "\n",
      "(ipykernel_launcher.py:1451): GLib-GIO-CRITICAL **: 16:35:45.343: file ../gio/gfileinfo.c: line 1655 (g_file_info_get_is_backup): should not be reached\n",
      "\n",
      "(ipykernel_launcher.py:1451): GLib-GIO-CRITICAL **: 16:37:45.395: GFileInfo created without standard::is-hidden\n",
      "\n",
      "(ipykernel_launcher.py:1451): GLib-GIO-CRITICAL **: 16:37:45.395: file ../gio/gfileinfo.c: line 1633 (g_file_info_get_is_hidden): should not be reached\n",
      "\n",
      "(ipykernel_launcher.py:1451): GLib-GIO-CRITICAL **: 16:37:45.395: GFileInfo created without standard::is-backup\n",
      "\n",
      "(ipykernel_launcher.py:1451): GLib-GIO-CRITICAL **: 16:37:45.395: file ../gio/gfileinfo.c: line 1655 (g_file_info_get_is_backup): should not be reached\n",
      "\n",
      "(ipykernel_launcher.py:1451): GLib-GIO-CRITICAL **: 16:39:45.456: GFileInfo created without standard::is-hidden\n",
      "\n",
      "(ipykernel_launcher.py:1451): GLib-GIO-CRITICAL **: 16:39:45.456: file ../gio/gfileinfo.c: line 1633 (g_file_info_get_is_hidden): should not be reached\n",
      "\n",
      "(ipykernel_launcher.py:1451): GLib-GIO-CRITICAL **: 16:39:45.456: GFileInfo created without standard::is-backup\n",
      "\n",
      "(ipykernel_launcher.py:1451): GLib-GIO-CRITICAL **: 16:39:45.456: file ../gio/gfileinfo.c: line 1655 (g_file_info_get_is_backup): should not be reached\n"
     ]
    }
   ],
   "source": [
    "fsleyesDisplay.resetOverlays()\n",
    "fsleyesDisplay.load('{}_smoothed-6mm'.format(op.join(preproc_root, \"sub-{}\".format(subject_id), \"func\", \"sub-{}_task-music_run_moco\".format(subject_id))))"
   ]
  },
  {
   "cell_type": "code",
   "execution_count": 40,
   "id": "b6642956-dde7-4bea-b68a-5b161637a127",
   "metadata": {},
   "outputs": [
    {
     "name": "stdout",
     "output_type": "stream",
     "text": [
      "\n",
      "<class 'nibabel.nifti1.Nifti1Image'>\n",
      "data shape (80, 80, 50, 315)\n",
      "affine:\n",
      "[[-2.89823341e+00  0.00000000e+00  1.04698524e-01  1.18931046e+02]\n",
      " [-6.50556833e-02  2.22152901e+00 -1.92718816e+00 -7.74534302e+01]\n",
      " [ 7.75302127e-02  1.86408401e+00  2.29673338e+00 -1.40277512e+02]\n",
      " [ 0.00000000e+00  0.00000000e+00  0.00000000e+00  1.00000000e+00]]\n",
      "metadata:\n",
      "<class 'nibabel.nifti1.Nifti1Header'> object, endian='<'\n",
      "sizeof_hdr      : 348\n",
      "data_type       : b''\n",
      "db_name         : b''\n",
      "extents         : 16384\n",
      "session_error   : 0\n",
      "regular         : b'r'\n",
      "dim_info        : 0\n",
      "dim             : [  4  80  80  50 315   1   1   1]\n",
      "intent_p1       : 0.0\n",
      "intent_p2       : 0.0\n",
      "intent_p3       : 0.0\n",
      "intent_code     : none\n",
      "datatype        : float32\n",
      "bitpix          : 32\n",
      "slice_start     : 0\n",
      "pixdim          : [-1.   2.9  2.9  3.   3.   1.   1.   1. ]\n",
      "vox_offset      : 0.0\n",
      "scl_slope       : nan\n",
      "scl_inter       : nan\n",
      "slice_end       : 0\n",
      "slice_code      : unknown\n",
      "xyzt_units      : 10\n",
      "cal_max         : 0.0\n",
      "cal_min         : 0.0\n",
      "slice_duration  : 0.0\n",
      "toffset         : 0.0\n",
      "glmax           : 0\n",
      "glmin           : 0\n",
      "descrip         : b'2203.11-dirty 2023-08-23T14:21:21+01:00'\n",
      "aux_file        : b''\n",
      "qform_code      : scanner\n",
      "sform_code      : scanner\n",
      "quatern_b       : 0.0059690825\n",
      "quatern_c       : -0.9395495\n",
      "quatern_d       : -0.34196803\n",
      "qoffset_x       : 118.931046\n",
      "qoffset_y       : -77.45343\n",
      "qoffset_z       : -140.27751\n",
      "srow_x          : [-2.89823341e+00  0.00000000e+00  1.04698524e-01  1.18931046e+02]\n",
      "srow_y          : [-6.5055683e-02  2.2215290e+00 -1.9271882e+00 -7.7453430e+01]\n",
      "srow_z          : [ 7.7530213e-02  1.8640840e+00  2.2967334e+00 -1.4027751e+02]\n",
      "intent_name     : b''\n",
      "magic           : b'n+1'\n",
      "\n"
     ]
    },
    {
     "name": "stderr",
     "output_type": "stream",
     "text": [
      "\n",
      "(ipykernel_launcher.py:1451): GLib-GIO-CRITICAL **: 16:53:45.822: GFileInfo created without standard::is-hidden\n",
      "\n",
      "(ipykernel_launcher.py:1451): GLib-GIO-CRITICAL **: 16:53:45.822: file ../gio/gfileinfo.c: line 1633 (g_file_info_get_is_hidden): should not be reached\n",
      "\n",
      "(ipykernel_launcher.py:1451): GLib-GIO-CRITICAL **: 16:53:45.822: GFileInfo created without standard::is-backup\n",
      "\n",
      "(ipykernel_launcher.py:1451): GLib-GIO-CRITICAL **: 16:53:45.822: file ../gio/gfileinfo.c: line 1655 (g_file_info_get_is_backup): should not be reached\n",
      "\n",
      "(ipykernel_launcher.py:1451): GLib-GIO-CRITICAL **: 16:54:08.815: GFileInfo created without standard::is-hidden\n",
      "\n",
      "(ipykernel_launcher.py:1451): GLib-GIO-CRITICAL **: 16:54:08.815: file ../gio/gfileinfo.c: line 1633 (g_file_info_get_is_hidden): should not be reached\n",
      "\n",
      "(ipykernel_launcher.py:1451): GLib-GIO-CRITICAL **: 16:54:08.816: GFileInfo created without standard::is-backup\n",
      "\n",
      "(ipykernel_launcher.py:1451): GLib-GIO-CRITICAL **: 16:54:08.816: file ../gio/gfileinfo.c: line 1655 (g_file_info_get_is_backup): should not be reached\n",
      "\n",
      "(ipykernel_launcher.py:1451): GLib-GIO-CRITICAL **: 16:54:10.601: GFileInfo created without standard::is-hidden\n",
      "\n",
      "(ipykernel_launcher.py:1451): GLib-GIO-CRITICAL **: 16:54:10.601: file ../gio/gfileinfo.c: line 1633 (g_file_info_get_is_hidden): should not be reached\n",
      "\n",
      "(ipykernel_launcher.py:1451): GLib-GIO-CRITICAL **: 16:54:10.601: GFileInfo created without standard::is-backup\n",
      "\n",
      "(ipykernel_launcher.py:1451): GLib-GIO-CRITICAL **: 16:54:10.601: file ../gio/gfileinfo.c: line 1655 (g_file_info_get_is_backup): should not be reached\n",
      "\n",
      "(ipykernel_launcher.py:1451): GLib-GIO-CRITICAL **: 16:54:12.320: GFileInfo created without standard::is-hidden\n",
      "\n",
      "(ipykernel_launcher.py:1451): GLib-GIO-CRITICAL **: 16:54:12.320: file ../gio/gfileinfo.c: line 1633 (g_file_info_get_is_hidden): should not be reached\n",
      "\n",
      "(ipykernel_launcher.py:1451): GLib-GIO-CRITICAL **: 16:54:12.320: GFileInfo created without standard::is-backup\n",
      "\n",
      "(ipykernel_launcher.py:1451): GLib-GIO-CRITICAL **: 16:54:12.320: file ../gio/gfileinfo.c: line 1655 (g_file_info_get_is_backup): should not be reached\n",
      "\n",
      "(ipykernel_launcher.py:1451): GLib-GIO-CRITICAL **: 16:54:18.569: GFileInfo created without standard::is-hidden\n",
      "\n",
      "(ipykernel_launcher.py:1451): GLib-GIO-CRITICAL **: 16:54:18.569: file ../gio/gfileinfo.c: line 1633 (g_file_info_get_is_hidden): should not be reached\n",
      "\n",
      "(ipykernel_launcher.py:1451): GLib-GIO-CRITICAL **: 16:54:18.569: GFileInfo created without standard::is-backup\n",
      "\n",
      "(ipykernel_launcher.py:1451): GLib-GIO-CRITICAL **: 16:54:18.569: file ../gio/gfileinfo.c: line 1655 (g_file_info_get_is_backup): should not be reached\n",
      "\n",
      "(ipykernel_launcher.py:1451): GLib-GIO-CRITICAL **: 16:54:19.551: GFileInfo created without standard::is-hidden\n",
      "\n",
      "(ipykernel_launcher.py:1451): GLib-GIO-CRITICAL **: 16:54:19.551: file ../gio/gfileinfo.c: line 1633 (g_file_info_get_is_hidden): should not be reached\n",
      "\n",
      "(ipykernel_launcher.py:1451): GLib-GIO-CRITICAL **: 16:54:19.551: GFileInfo created without standard::is-backup\n",
      "\n",
      "(ipykernel_launcher.py:1451): GLib-GIO-CRITICAL **: 16:54:19.551: file ../gio/gfileinfo.c: line 1655 (g_file_info_get_is_backup): should not be reached\n"
     ]
    }
   ],
   "source": [
    "file = op.join(preproc_root, \"sub-{}\".format(subject_id), \"func\", \"sub-{}_task-music_run_moco_smoothed-6mm.nii.gz\".format(subject_id))\n",
    "img = nib.load(file)\n",
    "a = np.array(img)\n",
    "print(a)"
   ]
  },
  {
   "cell_type": "code",
   "execution_count": null,
   "id": "aece2b59-0de4-401d-9986-52372a15f7d8",
   "metadata": {},
   "outputs": [],
   "source": [
    "\n",
    "t_r=3.0\n",
    "n_scans="
   ]
  }
 ],
 "metadata": {
  "kernelspec": {
   "display_name": "Python 3 (ipykernel)",
   "language": "python",
   "name": "python3"
  },
  "language_info": {
   "codemirror_mode": {
    "name": "ipython",
    "version": 3
   },
   "file_extension": ".py",
   "mimetype": "text/x-python",
   "name": "python",
   "nbconvert_exporter": "python",
   "pygments_lexer": "ipython3",
   "version": "3.11.6"
  }
 },
 "nbformat": 4,
 "nbformat_minor": 5
}
